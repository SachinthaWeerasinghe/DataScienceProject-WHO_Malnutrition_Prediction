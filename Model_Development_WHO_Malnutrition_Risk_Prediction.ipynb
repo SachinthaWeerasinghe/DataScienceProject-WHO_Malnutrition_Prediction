{
  "nbformat": 4,
  "nbformat_minor": 0,
  "metadata": {
    "colab": {
      "provenance": [],
      "authorship_tag": "ABX9TyOV+V8ia7wdCcBphVK2LOya",
      "include_colab_link": true
    },
    "kernelspec": {
      "name": "python3",
      "display_name": "Python 3"
    },
    "language_info": {
      "name": "python"
    }
  },
  "cells": [
    {
      "cell_type": "markdown",
      "metadata": {
        "id": "view-in-github",
        "colab_type": "text"
      },
      "source": [
        "<a href=\"https://colab.research.google.com/github/SachinthaWeerasinghe/DataScienceProject-WHO_Malnutrition_Prediction/blob/main/Model_Development_WHO_Malnutrition_Risk_Prediction.ipynb\" target=\"_parent\"><img src=\"https://colab.research.google.com/assets/colab-badge.svg\" alt=\"Open In Colab\"/></a>"
      ]
    },
    {
      "cell_type": "markdown",
      "source": [
        "# **Model Planning and Model Development Phase**\n",
        "\n",
        "## **Data Science Project**\n",
        "\n",
        "**WHO Malnutrition Risk Prediction**\n",
        "\n",
        "**Dataset : WHO Malnutrition Dataset**\n",
        "\n",
        "**Student Number: PS/2019/259**\n",
        "\n",
        "**Name : S.A. WEERASINGHE**"
      ],
      "metadata": {
        "id": "3GRwOqnpQcVm"
      }
    },
    {
      "cell_type": "markdown",
      "source": [
        "**IMPORT NECESSARY LIBRARIES**"
      ],
      "metadata": {
        "id": "PWEJb6zBR3vy"
      }
    },
    {
      "cell_type": "code",
      "execution_count": 2,
      "metadata": {
        "id": "iT7_LsbKQK_n"
      },
      "outputs": [],
      "source": [
        "import pandas as pd\n",
        "import numpy as np\n",
        "import matplotlib.pyplot as plt\n",
        "import seaborn as sns"
      ]
    },
    {
      "cell_type": "markdown",
      "source": [
        "**MOUNT THE GOOGLE DRIVE**"
      ],
      "metadata": {
        "id": "8Tsku4Z5SFMG"
      }
    },
    {
      "cell_type": "code",
      "source": [
        "from google.colab import drive\n",
        "drive.mount('/content/drive')"
      ],
      "metadata": {
        "colab": {
          "base_uri": "https://localhost:8080/"
        },
        "id": "SAriH7wHSEkj",
        "outputId": "4d4903ce-768c-4f0f-b957-3d3f2c4902fc"
      },
      "execution_count": 3,
      "outputs": [
        {
          "output_type": "stream",
          "name": "stdout",
          "text": [
            "Mounted at /content/drive\n"
          ]
        }
      ]
    },
    {
      "cell_type": "markdown",
      "source": [
        "**LOAD THE DATASET**"
      ],
      "metadata": {
        "id": "jmZj1wG_SioB"
      }
    },
    {
      "cell_type": "code",
      "source": [
        "df1 = pd.read_csv('/content/drive/MyDrive/DataScience/Project/DataPreprocessing/Presentation/Updated-ChildGrowthDataset-DataProcessing.csv', encoding='latin-1')"
      ],
      "metadata": {
        "id": "8slnKdC-R_sB"
      },
      "execution_count": 5,
      "outputs": []
    },
    {
      "cell_type": "code",
      "source": [
        "df1.head()"
      ],
      "metadata": {
        "colab": {
          "base_uri": "https://localhost:8080/",
          "height": 226
        },
        "collapsed": true,
        "id": "x_a5UMoRSnVT",
        "outputId": "4824cc41-44f0-4289-a4e2-3c151944a504"
      },
      "execution_count": 6,
      "outputs": [
        {
          "output_type": "execute_result",
          "data": {
            "text/plain": [
              "   Country  YEAR  Gender   AGE  MeanSampleSize  severe_wasting   wasting  \\\n",
              "0        0   1.0       0  2.50        8.211890       -1.208794 -1.571385   \n",
              "1        0   1.0       0  0.67        8.085949        0.452015 -0.462304   \n",
              "2        0   1.0       0  0.67        8.045107       -0.215541 -0.276809   \n",
              "3        0   1.0       0  1.50        8.211890       -0.999533 -1.098560   \n",
              "4        0   1.0       0  2.50        8.211890       -1.434082 -1.814842   \n",
              "\n",
              "   minor_wasting  minor_overweight  overweight   obesity  stunting  \\\n",
              "0      -1.480890         -0.357104   -0.940395 -0.750373  2.131518   \n",
              "1      -0.784776          1.915185    2.701806  3.423302 -0.086940   \n",
              "2      -0.411388         -0.350718   -0.699917 -0.518715 -0.422598   \n",
              "3      -0.849906         -1.040642   -1.420058 -1.298059  1.728110   \n",
              "4      -1.800875         -0.097032   -1.369389 -1.751036  2.518466   \n",
              "\n",
              "   underweight  severe_underweight  severe_obesity  malnutrition_risk  \n",
              "0     0.306297           -1.149921       -0.700430                  1  \n",
              "1    -0.101760            2.129947        2.466318                  0  \n",
              "2    -0.142441           -0.288911       -1.089065                  0  \n",
              "3     0.210355           -1.196219       -0.728349                  0  \n",
              "4     0.931110           -1.532947       -0.243798                  0  "
            ],
            "text/html": [
              "\n",
              "  <div id=\"df-89bce528-3f3b-411f-9103-670afd0ae587\" class=\"colab-df-container\">\n",
              "    <div>\n",
              "<style scoped>\n",
              "    .dataframe tbody tr th:only-of-type {\n",
              "        vertical-align: middle;\n",
              "    }\n",
              "\n",
              "    .dataframe tbody tr th {\n",
              "        vertical-align: top;\n",
              "    }\n",
              "\n",
              "    .dataframe thead th {\n",
              "        text-align: right;\n",
              "    }\n",
              "</style>\n",
              "<table border=\"1\" class=\"dataframe\">\n",
              "  <thead>\n",
              "    <tr style=\"text-align: right;\">\n",
              "      <th></th>\n",
              "      <th>Country</th>\n",
              "      <th>YEAR</th>\n",
              "      <th>Gender</th>\n",
              "      <th>AGE</th>\n",
              "      <th>MeanSampleSize</th>\n",
              "      <th>severe_wasting</th>\n",
              "      <th>wasting</th>\n",
              "      <th>minor_wasting</th>\n",
              "      <th>minor_overweight</th>\n",
              "      <th>overweight</th>\n",
              "      <th>obesity</th>\n",
              "      <th>stunting</th>\n",
              "      <th>underweight</th>\n",
              "      <th>severe_underweight</th>\n",
              "      <th>severe_obesity</th>\n",
              "      <th>malnutrition_risk</th>\n",
              "    </tr>\n",
              "  </thead>\n",
              "  <tbody>\n",
              "    <tr>\n",
              "      <th>0</th>\n",
              "      <td>0</td>\n",
              "      <td>1.0</td>\n",
              "      <td>0</td>\n",
              "      <td>2.50</td>\n",
              "      <td>8.211890</td>\n",
              "      <td>-1.208794</td>\n",
              "      <td>-1.571385</td>\n",
              "      <td>-1.480890</td>\n",
              "      <td>-0.357104</td>\n",
              "      <td>-0.940395</td>\n",
              "      <td>-0.750373</td>\n",
              "      <td>2.131518</td>\n",
              "      <td>0.306297</td>\n",
              "      <td>-1.149921</td>\n",
              "      <td>-0.700430</td>\n",
              "      <td>1</td>\n",
              "    </tr>\n",
              "    <tr>\n",
              "      <th>1</th>\n",
              "      <td>0</td>\n",
              "      <td>1.0</td>\n",
              "      <td>0</td>\n",
              "      <td>0.67</td>\n",
              "      <td>8.085949</td>\n",
              "      <td>0.452015</td>\n",
              "      <td>-0.462304</td>\n",
              "      <td>-0.784776</td>\n",
              "      <td>1.915185</td>\n",
              "      <td>2.701806</td>\n",
              "      <td>3.423302</td>\n",
              "      <td>-0.086940</td>\n",
              "      <td>-0.101760</td>\n",
              "      <td>2.129947</td>\n",
              "      <td>2.466318</td>\n",
              "      <td>0</td>\n",
              "    </tr>\n",
              "    <tr>\n",
              "      <th>2</th>\n",
              "      <td>0</td>\n",
              "      <td>1.0</td>\n",
              "      <td>0</td>\n",
              "      <td>0.67</td>\n",
              "      <td>8.045107</td>\n",
              "      <td>-0.215541</td>\n",
              "      <td>-0.276809</td>\n",
              "      <td>-0.411388</td>\n",
              "      <td>-0.350718</td>\n",
              "      <td>-0.699917</td>\n",
              "      <td>-0.518715</td>\n",
              "      <td>-0.422598</td>\n",
              "      <td>-0.142441</td>\n",
              "      <td>-0.288911</td>\n",
              "      <td>-1.089065</td>\n",
              "      <td>0</td>\n",
              "    </tr>\n",
              "    <tr>\n",
              "      <th>3</th>\n",
              "      <td>0</td>\n",
              "      <td>1.0</td>\n",
              "      <td>0</td>\n",
              "      <td>1.50</td>\n",
              "      <td>8.211890</td>\n",
              "      <td>-0.999533</td>\n",
              "      <td>-1.098560</td>\n",
              "      <td>-0.849906</td>\n",
              "      <td>-1.040642</td>\n",
              "      <td>-1.420058</td>\n",
              "      <td>-1.298059</td>\n",
              "      <td>1.728110</td>\n",
              "      <td>0.210355</td>\n",
              "      <td>-1.196219</td>\n",
              "      <td>-0.728349</td>\n",
              "      <td>0</td>\n",
              "    </tr>\n",
              "    <tr>\n",
              "      <th>4</th>\n",
              "      <td>0</td>\n",
              "      <td>1.0</td>\n",
              "      <td>0</td>\n",
              "      <td>2.50</td>\n",
              "      <td>8.211890</td>\n",
              "      <td>-1.434082</td>\n",
              "      <td>-1.814842</td>\n",
              "      <td>-1.800875</td>\n",
              "      <td>-0.097032</td>\n",
              "      <td>-1.369389</td>\n",
              "      <td>-1.751036</td>\n",
              "      <td>2.518466</td>\n",
              "      <td>0.931110</td>\n",
              "      <td>-1.532947</td>\n",
              "      <td>-0.243798</td>\n",
              "      <td>0</td>\n",
              "    </tr>\n",
              "  </tbody>\n",
              "</table>\n",
              "</div>\n",
              "    <div class=\"colab-df-buttons\">\n",
              "\n",
              "  <div class=\"colab-df-container\">\n",
              "    <button class=\"colab-df-convert\" onclick=\"convertToInteractive('df-89bce528-3f3b-411f-9103-670afd0ae587')\"\n",
              "            title=\"Convert this dataframe to an interactive table.\"\n",
              "            style=\"display:none;\">\n",
              "\n",
              "  <svg xmlns=\"http://www.w3.org/2000/svg\" height=\"24px\" viewBox=\"0 -960 960 960\">\n",
              "    <path d=\"M120-120v-720h720v720H120Zm60-500h600v-160H180v160Zm220 220h160v-160H400v160Zm0 220h160v-160H400v160ZM180-400h160v-160H180v160Zm440 0h160v-160H620v160ZM180-180h160v-160H180v160Zm440 0h160v-160H620v160Z\"/>\n",
              "  </svg>\n",
              "    </button>\n",
              "\n",
              "  <style>\n",
              "    .colab-df-container {\n",
              "      display:flex;\n",
              "      gap: 12px;\n",
              "    }\n",
              "\n",
              "    .colab-df-convert {\n",
              "      background-color: #E8F0FE;\n",
              "      border: none;\n",
              "      border-radius: 50%;\n",
              "      cursor: pointer;\n",
              "      display: none;\n",
              "      fill: #1967D2;\n",
              "      height: 32px;\n",
              "      padding: 0 0 0 0;\n",
              "      width: 32px;\n",
              "    }\n",
              "\n",
              "    .colab-df-convert:hover {\n",
              "      background-color: #E2EBFA;\n",
              "      box-shadow: 0px 1px 2px rgba(60, 64, 67, 0.3), 0px 1px 3px 1px rgba(60, 64, 67, 0.15);\n",
              "      fill: #174EA6;\n",
              "    }\n",
              "\n",
              "    .colab-df-buttons div {\n",
              "      margin-bottom: 4px;\n",
              "    }\n",
              "\n",
              "    [theme=dark] .colab-df-convert {\n",
              "      background-color: #3B4455;\n",
              "      fill: #D2E3FC;\n",
              "    }\n",
              "\n",
              "    [theme=dark] .colab-df-convert:hover {\n",
              "      background-color: #434B5C;\n",
              "      box-shadow: 0px 1px 3px 1px rgba(0, 0, 0, 0.15);\n",
              "      filter: drop-shadow(0px 1px 2px rgba(0, 0, 0, 0.3));\n",
              "      fill: #FFFFFF;\n",
              "    }\n",
              "  </style>\n",
              "\n",
              "    <script>\n",
              "      const buttonEl =\n",
              "        document.querySelector('#df-89bce528-3f3b-411f-9103-670afd0ae587 button.colab-df-convert');\n",
              "      buttonEl.style.display =\n",
              "        google.colab.kernel.accessAllowed ? 'block' : 'none';\n",
              "\n",
              "      async function convertToInteractive(key) {\n",
              "        const element = document.querySelector('#df-89bce528-3f3b-411f-9103-670afd0ae587');\n",
              "        const dataTable =\n",
              "          await google.colab.kernel.invokeFunction('convertToInteractive',\n",
              "                                                    [key], {});\n",
              "        if (!dataTable) return;\n",
              "\n",
              "        const docLinkHtml = 'Like what you see? Visit the ' +\n",
              "          '<a target=\"_blank\" href=https://colab.research.google.com/notebooks/data_table.ipynb>data table notebook</a>'\n",
              "          + ' to learn more about interactive tables.';\n",
              "        element.innerHTML = '';\n",
              "        dataTable['output_type'] = 'display_data';\n",
              "        await google.colab.output.renderOutput(dataTable, element);\n",
              "        const docLink = document.createElement('div');\n",
              "        docLink.innerHTML = docLinkHtml;\n",
              "        element.appendChild(docLink);\n",
              "      }\n",
              "    </script>\n",
              "  </div>\n",
              "\n",
              "\n",
              "<div id=\"df-971aba18-a1c4-4cb3-bbc7-5ea0cf05a30c\">\n",
              "  <button class=\"colab-df-quickchart\" onclick=\"quickchart('df-971aba18-a1c4-4cb3-bbc7-5ea0cf05a30c')\"\n",
              "            title=\"Suggest charts\"\n",
              "            style=\"display:none;\">\n",
              "\n",
              "<svg xmlns=\"http://www.w3.org/2000/svg\" height=\"24px\"viewBox=\"0 0 24 24\"\n",
              "     width=\"24px\">\n",
              "    <g>\n",
              "        <path d=\"M19 3H5c-1.1 0-2 .9-2 2v14c0 1.1.9 2 2 2h14c1.1 0 2-.9 2-2V5c0-1.1-.9-2-2-2zM9 17H7v-7h2v7zm4 0h-2V7h2v10zm4 0h-2v-4h2v4z\"/>\n",
              "    </g>\n",
              "</svg>\n",
              "  </button>\n",
              "\n",
              "<style>\n",
              "  .colab-df-quickchart {\n",
              "      --bg-color: #E8F0FE;\n",
              "      --fill-color: #1967D2;\n",
              "      --hover-bg-color: #E2EBFA;\n",
              "      --hover-fill-color: #174EA6;\n",
              "      --disabled-fill-color: #AAA;\n",
              "      --disabled-bg-color: #DDD;\n",
              "  }\n",
              "\n",
              "  [theme=dark] .colab-df-quickchart {\n",
              "      --bg-color: #3B4455;\n",
              "      --fill-color: #D2E3FC;\n",
              "      --hover-bg-color: #434B5C;\n",
              "      --hover-fill-color: #FFFFFF;\n",
              "      --disabled-bg-color: #3B4455;\n",
              "      --disabled-fill-color: #666;\n",
              "  }\n",
              "\n",
              "  .colab-df-quickchart {\n",
              "    background-color: var(--bg-color);\n",
              "    border: none;\n",
              "    border-radius: 50%;\n",
              "    cursor: pointer;\n",
              "    display: none;\n",
              "    fill: var(--fill-color);\n",
              "    height: 32px;\n",
              "    padding: 0;\n",
              "    width: 32px;\n",
              "  }\n",
              "\n",
              "  .colab-df-quickchart:hover {\n",
              "    background-color: var(--hover-bg-color);\n",
              "    box-shadow: 0 1px 2px rgba(60, 64, 67, 0.3), 0 1px 3px 1px rgba(60, 64, 67, 0.15);\n",
              "    fill: var(--button-hover-fill-color);\n",
              "  }\n",
              "\n",
              "  .colab-df-quickchart-complete:disabled,\n",
              "  .colab-df-quickchart-complete:disabled:hover {\n",
              "    background-color: var(--disabled-bg-color);\n",
              "    fill: var(--disabled-fill-color);\n",
              "    box-shadow: none;\n",
              "  }\n",
              "\n",
              "  .colab-df-spinner {\n",
              "    border: 2px solid var(--fill-color);\n",
              "    border-color: transparent;\n",
              "    border-bottom-color: var(--fill-color);\n",
              "    animation:\n",
              "      spin 1s steps(1) infinite;\n",
              "  }\n",
              "\n",
              "  @keyframes spin {\n",
              "    0% {\n",
              "      border-color: transparent;\n",
              "      border-bottom-color: var(--fill-color);\n",
              "      border-left-color: var(--fill-color);\n",
              "    }\n",
              "    20% {\n",
              "      border-color: transparent;\n",
              "      border-left-color: var(--fill-color);\n",
              "      border-top-color: var(--fill-color);\n",
              "    }\n",
              "    30% {\n",
              "      border-color: transparent;\n",
              "      border-left-color: var(--fill-color);\n",
              "      border-top-color: var(--fill-color);\n",
              "      border-right-color: var(--fill-color);\n",
              "    }\n",
              "    40% {\n",
              "      border-color: transparent;\n",
              "      border-right-color: var(--fill-color);\n",
              "      border-top-color: var(--fill-color);\n",
              "    }\n",
              "    60% {\n",
              "      border-color: transparent;\n",
              "      border-right-color: var(--fill-color);\n",
              "    }\n",
              "    80% {\n",
              "      border-color: transparent;\n",
              "      border-right-color: var(--fill-color);\n",
              "      border-bottom-color: var(--fill-color);\n",
              "    }\n",
              "    90% {\n",
              "      border-color: transparent;\n",
              "      border-bottom-color: var(--fill-color);\n",
              "    }\n",
              "  }\n",
              "</style>\n",
              "\n",
              "  <script>\n",
              "    async function quickchart(key) {\n",
              "      const quickchartButtonEl =\n",
              "        document.querySelector('#' + key + ' button');\n",
              "      quickchartButtonEl.disabled = true;  // To prevent multiple clicks.\n",
              "      quickchartButtonEl.classList.add('colab-df-spinner');\n",
              "      try {\n",
              "        const charts = await google.colab.kernel.invokeFunction(\n",
              "            'suggestCharts', [key], {});\n",
              "      } catch (error) {\n",
              "        console.error('Error during call to suggestCharts:', error);\n",
              "      }\n",
              "      quickchartButtonEl.classList.remove('colab-df-spinner');\n",
              "      quickchartButtonEl.classList.add('colab-df-quickchart-complete');\n",
              "    }\n",
              "    (() => {\n",
              "      let quickchartButtonEl =\n",
              "        document.querySelector('#df-971aba18-a1c4-4cb3-bbc7-5ea0cf05a30c button');\n",
              "      quickchartButtonEl.style.display =\n",
              "        google.colab.kernel.accessAllowed ? 'block' : 'none';\n",
              "    })();\n",
              "  </script>\n",
              "</div>\n",
              "\n",
              "    </div>\n",
              "  </div>\n"
            ],
            "application/vnd.google.colaboratory.intrinsic+json": {
              "type": "dataframe",
              "variable_name": "df1",
              "summary": "{\n  \"name\": \"df1\",\n  \"rows\": 55436,\n  \"fields\": [\n    {\n      \"column\": \"Country\",\n      \"properties\": {\n        \"dtype\": \"number\",\n        \"std\": 41,\n        \"min\": 0,\n        \"max\": 150,\n        \"num_unique_values\": 151,\n        \"samples\": [\n          72,\n          9,\n          82\n        ],\n        \"semantic_type\": \"\",\n        \"description\": \"\"\n      }\n    },\n    {\n      \"column\": \"YEAR\",\n      \"properties\": {\n        \"dtype\": \"number\",\n        \"std\": 0.31145375285255616,\n        \"min\": 0.0,\n        \"max\": 1.0,\n        \"num_unique_values\": 17834,\n        \"samples\": [\n          0.6401490087595882,\n          0.99242371364577,\n          0.5584393994256948\n        ],\n        \"semantic_type\": \"\",\n        \"description\": \"\"\n      }\n    },\n    {\n      \"column\": \"Gender\",\n      \"properties\": {\n        \"dtype\": \"number\",\n        \"std\": 0,\n        \"min\": 0,\n        \"max\": 2,\n        \"num_unique_values\": 3,\n        \"samples\": [\n          0,\n          2,\n          1\n        ],\n        \"semantic_type\": \"\",\n        \"description\": \"\"\n      }\n    },\n    {\n      \"column\": \"AGE\",\n      \"properties\": {\n        \"dtype\": \"number\",\n        \"std\": 0.6680576722564863,\n        \"min\": 0.67,\n        \"max\": 3.5,\n        \"num_unique_values\": 687,\n        \"samples\": [\n          2.516746376357722,\n          2.531579279802933,\n          2.617967495299397\n        ],\n        \"semantic_type\": \"\",\n        \"description\": \"\"\n      }\n    },\n    {\n      \"column\": \"MeanSampleSize\",\n      \"properties\": {\n        \"dtype\": \"number\",\n        \"std\": 1.0044724401776475,\n        \"min\": 5.117993812416755,\n        \"max\": 8.211890110207055,\n        \"num_unique_values\": 24959,\n        \"samples\": [\n          7.504885594767725,\n          6.030685260261263,\n          5.554250740685237\n        ],\n        \"semantic_type\": \"\",\n        \"description\": \"\"\n      }\n    },\n    {\n      \"column\": \"severe_wasting\",\n      \"properties\": {\n        \"dtype\": \"number\",\n        \"std\": 1.6822601411610292,\n        \"min\": -2.3411840558294856,\n        \"max\": 3.914498697997233,\n        \"num_unique_values\": 50269,\n        \"samples\": [\n          -1.9954247334068904,\n          2.6290091299410494,\n          0.8694851148561585\n        ],\n        \"semantic_type\": \"\",\n        \"description\": \"\"\n      }\n    },\n    {\n      \"column\": \"wasting\",\n      \"properties\": {\n        \"dtype\": \"number\",\n        \"std\": 1.7009713482220952,\n        \"min\": -2.4892553965618225,\n        \"max\": 3.6463179905371033,\n        \"num_unique_values\": 51456,\n        \"samples\": [\n          2.549200012616929,\n          -0.8026591942745277,\n          0.0797694554967567\n        ],\n        \"semantic_type\": \"\",\n        \"description\": \"\"\n      }\n    },\n    {\n      \"column\": \"minor_wasting\",\n      \"properties\": {\n        \"dtype\": \"number\",\n        \"std\": 1.704845150761537,\n        \"min\": -2.5746219871635745,\n        \"max\": 3.1957357039989707,\n        \"num_unique_values\": 52428,\n        \"samples\": [\n          1.9231976685548016,\n          -1.9538471839214064,\n          2.357587786579146\n        ],\n        \"semantic_type\": \"\",\n        \"description\": \"\"\n      }\n    },\n    {\n      \"column\": \"minor_overweight\",\n      \"properties\": {\n        \"dtype\": \"number\",\n        \"std\": 1.7645539195024122,\n        \"min\": -2.5563955655265755,\n        \"max\": 3.4702924057272697,\n        \"num_unique_values\": 52213,\n        \"samples\": [\n          2.4033666877815176,\n          0.1975898377282305,\n          -1.417491671734251\n        ],\n        \"semantic_type\": \"\",\n        \"description\": \"\"\n      }\n    },\n    {\n      \"column\": \"overweight\",\n      \"properties\": {\n        \"dtype\": \"number\",\n        \"std\": 1.7690515246018026,\n        \"min\": -2.3587405779734145,\n        \"max\": 3.7869963381167775,\n        \"num_unique_values\": 51577,\n        \"samples\": [\n          -1.955395943924932,\n          1.1443383579092512,\n          -1.617264256123453\n        ],\n        \"semantic_type\": \"\",\n        \"description\": \"\"\n      }\n    },\n    {\n      \"column\": \"obesity\",\n      \"properties\": {\n        \"dtype\": \"number\",\n        \"std\": 1.7432624881930894,\n        \"min\": -2.247752339513692,\n        \"max\": 3.9817082721854207,\n        \"num_unique_values\": 49977,\n        \"samples\": [\n          0.2405928640451171,\n          1.535906205277725,\n          -1.9685828219190675\n        ],\n        \"semantic_type\": \"\",\n        \"description\": \"\"\n      }\n    },\n    {\n      \"column\": \"stunting\",\n      \"properties\": {\n        \"dtype\": \"number\",\n        \"std\": 1.6946592349397007,\n        \"min\": -2.6348709428646373,\n        \"max\": 3.1318371088265797,\n        \"num_unique_values\": 52045,\n        \"samples\": [\n          -1.227693712517747,\n          -2.246262394488554,\n          -2.095765035659653\n        ],\n        \"semantic_type\": \"\",\n        \"description\": \"\"\n      }\n    },\n    {\n      \"column\": \"underweight\",\n      \"properties\": {\n        \"dtype\": \"number\",\n        \"std\": 1.7528299193461132,\n        \"min\": -2.5262298704420854,\n        \"max\": 3.4566850129917106,\n        \"num_unique_values\": 51860,\n        \"samples\": [\n          -1.6276800237344398,\n          -2.1114496079158367,\n          2.595796044984001\n        ],\n        \"semantic_type\": \"\",\n        \"description\": \"\"\n      }\n    },\n    {\n      \"column\": \"severe_underweight\",\n      \"properties\": {\n        \"dtype\": \"number\",\n        \"std\": 1.6729999976671637,\n        \"min\": -2.3405669453557123,\n        \"max\": 3.9258868147783095,\n        \"num_unique_values\": 49645,\n        \"samples\": [\n          -0.8311018768569192,\n          -0.598106094849823,\n          -1.8792987950856412\n        ],\n        \"semantic_type\": \"\",\n        \"description\": \"\"\n      }\n    },\n    {\n      \"column\": \"severe_obesity\",\n      \"properties\": {\n        \"dtype\": \"number\",\n        \"std\": 1.7364376851200642,\n        \"min\": -2.2715913765228843,\n        \"max\": 3.9575182144428527,\n        \"num_unique_values\": 49906,\n        \"samples\": [\n          -1.2836230609877757,\n          -2.20237779328382,\n          -2.101003338757362\n        ],\n        \"semantic_type\": \"\",\n        \"description\": \"\"\n      }\n    },\n    {\n      \"column\": \"malnutrition_risk\",\n      \"properties\": {\n        \"dtype\": \"number\",\n        \"std\": 0,\n        \"min\": 0,\n        \"max\": 1,\n        \"num_unique_values\": 2,\n        \"samples\": [\n          0,\n          1\n        ],\n        \"semantic_type\": \"\",\n        \"description\": \"\"\n      }\n    }\n  ]\n}"
            }
          },
          "metadata": {},
          "execution_count": 6
        }
      ]
    },
    {
      "cell_type": "code",
      "source": [
        "df1.shape"
      ],
      "metadata": {
        "colab": {
          "base_uri": "https://localhost:8080/"
        },
        "id": "hlUbRnueSthj",
        "outputId": "6f9f4bdf-1c51-477f-a9f8-c0cc486e3153"
      },
      "execution_count": 7,
      "outputs": [
        {
          "output_type": "execute_result",
          "data": {
            "text/plain": [
              "(55436, 16)"
            ]
          },
          "metadata": {},
          "execution_count": 7
        }
      ]
    },
    {
      "cell_type": "markdown",
      "source": [
        "# **MODEL DEVELOPMENT - NEURAL NETWORK**"
      ],
      "metadata": {
        "id": "Ob_9PTc-LAFL"
      }
    },
    {
      "cell_type": "markdown",
      "source": [
        "**INSTALL REQUIRED LIBRARIES**"
      ],
      "metadata": {
        "id": "LyV0arDZLiPv"
      }
    },
    {
      "cell_type": "code",
      "source": [
        "pip install tensorflow scikit-learn pandas numpy\n"
      ],
      "metadata": {
        "colab": {
          "base_uri": "https://localhost:8080/"
        },
        "collapsed": true,
        "id": "LANJpcMVLS8h",
        "outputId": "ca09acba-bd27-4856-c650-26feb3f69186"
      },
      "execution_count": 8,
      "outputs": [
        {
          "output_type": "stream",
          "name": "stdout",
          "text": [
            "Requirement already satisfied: tensorflow in /usr/local/lib/python3.10/dist-packages (2.17.0)\n",
            "Requirement already satisfied: scikit-learn in /usr/local/lib/python3.10/dist-packages (1.5.2)\n",
            "Requirement already satisfied: pandas in /usr/local/lib/python3.10/dist-packages (2.2.2)\n",
            "Requirement already satisfied: numpy in /usr/local/lib/python3.10/dist-packages (1.26.4)\n",
            "Requirement already satisfied: absl-py>=1.0.0 in /usr/local/lib/python3.10/dist-packages (from tensorflow) (1.4.0)\n",
            "Requirement already satisfied: astunparse>=1.6.0 in /usr/local/lib/python3.10/dist-packages (from tensorflow) (1.6.3)\n",
            "Requirement already satisfied: flatbuffers>=24.3.25 in /usr/local/lib/python3.10/dist-packages (from tensorflow) (24.3.25)\n",
            "Requirement already satisfied: gast!=0.5.0,!=0.5.1,!=0.5.2,>=0.2.1 in /usr/local/lib/python3.10/dist-packages (from tensorflow) (0.6.0)\n",
            "Requirement already satisfied: google-pasta>=0.1.1 in /usr/local/lib/python3.10/dist-packages (from tensorflow) (0.2.0)\n",
            "Requirement already satisfied: h5py>=3.10.0 in /usr/local/lib/python3.10/dist-packages (from tensorflow) (3.11.0)\n",
            "Requirement already satisfied: libclang>=13.0.0 in /usr/local/lib/python3.10/dist-packages (from tensorflow) (18.1.1)\n",
            "Requirement already satisfied: ml-dtypes<0.5.0,>=0.3.1 in /usr/local/lib/python3.10/dist-packages (from tensorflow) (0.4.1)\n",
            "Requirement already satisfied: opt-einsum>=2.3.2 in /usr/local/lib/python3.10/dist-packages (from tensorflow) (3.4.0)\n",
            "Requirement already satisfied: packaging in /usr/local/lib/python3.10/dist-packages (from tensorflow) (24.1)\n",
            "Requirement already satisfied: protobuf!=4.21.0,!=4.21.1,!=4.21.2,!=4.21.3,!=4.21.4,!=4.21.5,<5.0.0dev,>=3.20.3 in /usr/local/lib/python3.10/dist-packages (from tensorflow) (3.20.3)\n",
            "Requirement already satisfied: requests<3,>=2.21.0 in /usr/local/lib/python3.10/dist-packages (from tensorflow) (2.32.3)\n",
            "Requirement already satisfied: setuptools in /usr/local/lib/python3.10/dist-packages (from tensorflow) (75.1.0)\n",
            "Requirement already satisfied: six>=1.12.0 in /usr/local/lib/python3.10/dist-packages (from tensorflow) (1.16.0)\n",
            "Requirement already satisfied: termcolor>=1.1.0 in /usr/local/lib/python3.10/dist-packages (from tensorflow) (2.5.0)\n",
            "Requirement already satisfied: typing-extensions>=3.6.6 in /usr/local/lib/python3.10/dist-packages (from tensorflow) (4.12.2)\n",
            "Requirement already satisfied: wrapt>=1.11.0 in /usr/local/lib/python3.10/dist-packages (from tensorflow) (1.16.0)\n",
            "Requirement already satisfied: grpcio<2.0,>=1.24.3 in /usr/local/lib/python3.10/dist-packages (from tensorflow) (1.64.1)\n",
            "Requirement already satisfied: tensorboard<2.18,>=2.17 in /usr/local/lib/python3.10/dist-packages (from tensorflow) (2.17.0)\n",
            "Requirement already satisfied: keras>=3.2.0 in /usr/local/lib/python3.10/dist-packages (from tensorflow) (3.4.1)\n",
            "Requirement already satisfied: tensorflow-io-gcs-filesystem>=0.23.1 in /usr/local/lib/python3.10/dist-packages (from tensorflow) (0.37.1)\n",
            "Requirement already satisfied: scipy>=1.6.0 in /usr/local/lib/python3.10/dist-packages (from scikit-learn) (1.13.1)\n",
            "Requirement already satisfied: joblib>=1.2.0 in /usr/local/lib/python3.10/dist-packages (from scikit-learn) (1.4.2)\n",
            "Requirement already satisfied: threadpoolctl>=3.1.0 in /usr/local/lib/python3.10/dist-packages (from scikit-learn) (3.5.0)\n",
            "Requirement already satisfied: python-dateutil>=2.8.2 in /usr/local/lib/python3.10/dist-packages (from pandas) (2.8.2)\n",
            "Requirement already satisfied: pytz>=2020.1 in /usr/local/lib/python3.10/dist-packages (from pandas) (2024.2)\n",
            "Requirement already satisfied: tzdata>=2022.7 in /usr/local/lib/python3.10/dist-packages (from pandas) (2024.2)\n",
            "Requirement already satisfied: wheel<1.0,>=0.23.0 in /usr/local/lib/python3.10/dist-packages (from astunparse>=1.6.0->tensorflow) (0.44.0)\n",
            "Requirement already satisfied: rich in /usr/local/lib/python3.10/dist-packages (from keras>=3.2.0->tensorflow) (13.9.2)\n",
            "Requirement already satisfied: namex in /usr/local/lib/python3.10/dist-packages (from keras>=3.2.0->tensorflow) (0.0.8)\n",
            "Requirement already satisfied: optree in /usr/local/lib/python3.10/dist-packages (from keras>=3.2.0->tensorflow) (0.13.0)\n",
            "Requirement already satisfied: charset-normalizer<4,>=2 in /usr/local/lib/python3.10/dist-packages (from requests<3,>=2.21.0->tensorflow) (3.4.0)\n",
            "Requirement already satisfied: idna<4,>=2.5 in /usr/local/lib/python3.10/dist-packages (from requests<3,>=2.21.0->tensorflow) (3.10)\n",
            "Requirement already satisfied: urllib3<3,>=1.21.1 in /usr/local/lib/python3.10/dist-packages (from requests<3,>=2.21.0->tensorflow) (2.2.3)\n",
            "Requirement already satisfied: certifi>=2017.4.17 in /usr/local/lib/python3.10/dist-packages (from requests<3,>=2.21.0->tensorflow) (2024.8.30)\n",
            "Requirement already satisfied: markdown>=2.6.8 in /usr/local/lib/python3.10/dist-packages (from tensorboard<2.18,>=2.17->tensorflow) (3.7)\n",
            "Requirement already satisfied: tensorboard-data-server<0.8.0,>=0.7.0 in /usr/local/lib/python3.10/dist-packages (from tensorboard<2.18,>=2.17->tensorflow) (0.7.2)\n",
            "Requirement already satisfied: werkzeug>=1.0.1 in /usr/local/lib/python3.10/dist-packages (from tensorboard<2.18,>=2.17->tensorflow) (3.0.4)\n",
            "Requirement already satisfied: MarkupSafe>=2.1.1 in /usr/local/lib/python3.10/dist-packages (from werkzeug>=1.0.1->tensorboard<2.18,>=2.17->tensorflow) (3.0.1)\n",
            "Requirement already satisfied: markdown-it-py>=2.2.0 in /usr/local/lib/python3.10/dist-packages (from rich->keras>=3.2.0->tensorflow) (3.0.0)\n",
            "Requirement already satisfied: pygments<3.0.0,>=2.13.0 in /usr/local/lib/python3.10/dist-packages (from rich->keras>=3.2.0->tensorflow) (2.18.0)\n",
            "Requirement already satisfied: mdurl~=0.1 in /usr/local/lib/python3.10/dist-packages (from markdown-it-py>=2.2.0->rich->keras>=3.2.0->tensorflow) (0.1.2)\n"
          ]
        }
      ]
    },
    {
      "cell_type": "markdown",
      "source": [
        "**IMPORT NECESSARY LIBRARIES**"
      ],
      "metadata": {
        "id": "km4crvtxLsYz"
      }
    },
    {
      "cell_type": "code",
      "source": [
        "import numpy as np\n",
        "import pandas as pd\n",
        "from sklearn.model_selection import train_test_split\n",
        "from sklearn.preprocessing import StandardScaler\n",
        "from sklearn.metrics import classification_report, accuracy_score\n",
        "import tensorflow as tf\n",
        "from tensorflow.keras.models import Sequential\n",
        "from tensorflow.keras.layers import Dense, Dropout"
      ],
      "metadata": {
        "id": "C2esv5D3L02L"
      },
      "execution_count": 9,
      "outputs": []
    },
    {
      "cell_type": "markdown",
      "source": [
        "**SPLIT THE DATASET INTO TRAINING AND TESTING DATASET**"
      ],
      "metadata": {
        "id": "hQwGkCbQL8Z_"
      }
    },
    {
      "cell_type": "code",
      "source": [
        "X = df1.drop('malnutrition_risk', axis=1)\n",
        "y = df1['malnutrition_risk']\n",
        "\n",
        "# Split the dataset into training and test sets (80% train, 20% test)\n",
        "X_train, X_test, y_train, y_test = train_test_split(X, y, test_size=0.2, random_state=42)"
      ],
      "metadata": {
        "id": "55o8MYQgMGi-"
      },
      "execution_count": 11,
      "outputs": []
    },
    {
      "cell_type": "markdown",
      "source": [
        "**NORMALIZE THE DATA**"
      ],
      "metadata": {
        "id": "J7DI-44RMVtR"
      }
    },
    {
      "cell_type": "code",
      "source": [
        "# Standardize the feature data (make sure to fit only on training data)\n",
        "scaler = StandardScaler()\n",
        "X_train = scaler.fit_transform(X_train)\n",
        "X_test = scaler.transform(X_test)"
      ],
      "metadata": {
        "id": "8n-CHVPsMZnT"
      },
      "execution_count": 12,
      "outputs": []
    },
    {
      "cell_type": "markdown",
      "source": [
        "**BUILD THE NEURAL NETWORK MODEL**"
      ],
      "metadata": {
        "id": "d87F36u4MeO6"
      }
    },
    {
      "cell_type": "code",
      "source": [
        "# Define the neural network model\n",
        "model = Sequential()\n",
        "\n",
        "# Input layer and first hidden layer with 16 neurons and ReLU activation\n",
        "model.add(Dense(16, activation='relu', input_shape=(X_train.shape[1],)))\n",
        "\n",
        "# Second hidden layer with 8 neurons\n",
        "model.add(Dense(8, activation='relu'))\n",
        "\n",
        "# Output layer with 1 neuron and sigmoid activation for binary classification\n",
        "model.add(Dense(1, activation='sigmoid'))\n"
      ],
      "metadata": {
        "colab": {
          "base_uri": "https://localhost:8080/"
        },
        "id": "OCzB-jBdMhoL",
        "outputId": "1e16d7f7-feb7-4ea3-af15-25ba0fa84347"
      },
      "execution_count": 13,
      "outputs": [
        {
          "output_type": "stream",
          "name": "stderr",
          "text": [
            "/usr/local/lib/python3.10/dist-packages/keras/src/layers/core/dense.py:87: UserWarning: Do not pass an `input_shape`/`input_dim` argument to a layer. When using Sequential models, prefer using an `Input(shape)` object as the first layer in the model instead.\n",
            "  super().__init__(activity_regularizer=activity_regularizer, **kwargs)\n"
          ]
        }
      ]
    },
    {
      "cell_type": "markdown",
      "source": [
        "**COMPILE THE MODEL**"
      ],
      "metadata": {
        "id": "qhn7e5WBMm8B"
      }
    },
    {
      "cell_type": "code",
      "source": [
        "# Compile the model\n",
        "model.compile(optimizer='adam', loss='binary_crossentropy', metrics=['accuracy'])\n"
      ],
      "metadata": {
        "id": "4tZDuJaDMmGC"
      },
      "execution_count": 14,
      "outputs": []
    },
    {
      "cell_type": "markdown",
      "source": [
        "**TRAIN THE MODEL**"
      ],
      "metadata": {
        "id": "duPPGaj9Myde"
      }
    },
    {
      "cell_type": "code",
      "source": [
        "# Train the model\n",
        "history = model.fit(X_train, y_train, epochs=20, batch_size=32, validation_split=0.2)\n"
      ],
      "metadata": {
        "colab": {
          "base_uri": "https://localhost:8080/"
        },
        "id": "671v_arRM2PY",
        "outputId": "536b129f-3c30-4bc8-e8f4-aa2a94b5c2bd"
      },
      "execution_count": 15,
      "outputs": [
        {
          "output_type": "stream",
          "name": "stdout",
          "text": [
            "Epoch 1/20\n",
            "\u001b[1m1109/1109\u001b[0m \u001b[32m━━━━━━━━━━━━━━━━━━━━\u001b[0m\u001b[37m\u001b[0m \u001b[1m5s\u001b[0m 2ms/step - accuracy: 0.7128 - loss: 0.5311 - val_accuracy: 0.9092 - val_loss: 0.2480\n",
            "Epoch 2/20\n",
            "\u001b[1m1109/1109\u001b[0m \u001b[32m━━━━━━━━━━━━━━━━━━━━\u001b[0m\u001b[37m\u001b[0m \u001b[1m4s\u001b[0m 2ms/step - accuracy: 0.9132 - loss: 0.2326 - val_accuracy: 0.9158 - val_loss: 0.2214\n",
            "Epoch 3/20\n",
            "\u001b[1m1109/1109\u001b[0m \u001b[32m━━━━━━━━━━━━━━━━━━━━\u001b[0m\u001b[37m\u001b[0m \u001b[1m2s\u001b[0m 2ms/step - accuracy: 0.9184 - loss: 0.2174 - val_accuracy: 0.9202 - val_loss: 0.2118\n",
            "Epoch 4/20\n",
            "\u001b[1m1109/1109\u001b[0m \u001b[32m━━━━━━━━━━━━━━━━━━━━\u001b[0m\u001b[37m\u001b[0m \u001b[1m2s\u001b[0m 2ms/step - accuracy: 0.9175 - loss: 0.2131 - val_accuracy: 0.9191 - val_loss: 0.2072\n",
            "Epoch 5/20\n",
            "\u001b[1m1109/1109\u001b[0m \u001b[32m━━━━━━━━━━━━━━━━━━━━\u001b[0m\u001b[37m\u001b[0m \u001b[1m3s\u001b[0m 3ms/step - accuracy: 0.9214 - loss: 0.2025 - val_accuracy: 0.9222 - val_loss: 0.2036\n",
            "Epoch 6/20\n",
            "\u001b[1m1109/1109\u001b[0m \u001b[32m━━━━━━━━━━━━━━━━━━━━\u001b[0m\u001b[37m\u001b[0m \u001b[1m4s\u001b[0m 2ms/step - accuracy: 0.9230 - loss: 0.1998 - val_accuracy: 0.9221 - val_loss: 0.2024\n",
            "Epoch 7/20\n",
            "\u001b[1m1109/1109\u001b[0m \u001b[32m━━━━━━━━━━━━━━━━━━━━\u001b[0m\u001b[37m\u001b[0m \u001b[1m3s\u001b[0m 2ms/step - accuracy: 0.9222 - loss: 0.2020 - val_accuracy: 0.9222 - val_loss: 0.2021\n",
            "Epoch 8/20\n",
            "\u001b[1m1109/1109\u001b[0m \u001b[32m━━━━━━━━━━━━━━━━━━━━\u001b[0m\u001b[37m\u001b[0m \u001b[1m2s\u001b[0m 2ms/step - accuracy: 0.9264 - loss: 0.1964 - val_accuracy: 0.9232 - val_loss: 0.1995\n",
            "Epoch 9/20\n",
            "\u001b[1m1109/1109\u001b[0m \u001b[32m━━━━━━━━━━━━━━━━━━━━\u001b[0m\u001b[37m\u001b[0m \u001b[1m3s\u001b[0m 2ms/step - accuracy: 0.9263 - loss: 0.1904 - val_accuracy: 0.9233 - val_loss: 0.1980\n",
            "Epoch 10/20\n",
            "\u001b[1m1109/1109\u001b[0m \u001b[32m━━━━━━━━━━━━━━━━━━━━\u001b[0m\u001b[37m\u001b[0m \u001b[1m3s\u001b[0m 3ms/step - accuracy: 0.9279 - loss: 0.1922 - val_accuracy: 0.9244 - val_loss: 0.1961\n",
            "Epoch 11/20\n",
            "\u001b[1m1109/1109\u001b[0m \u001b[32m━━━━━━━━━━━━━━━━━━━━\u001b[0m\u001b[37m\u001b[0m \u001b[1m2s\u001b[0m 2ms/step - accuracy: 0.9260 - loss: 0.1909 - val_accuracy: 0.9244 - val_loss: 0.1958\n",
            "Epoch 12/20\n",
            "\u001b[1m1109/1109\u001b[0m \u001b[32m━━━━━━━━━━━━━━━━━━━━\u001b[0m\u001b[37m\u001b[0m \u001b[1m3s\u001b[0m 2ms/step - accuracy: 0.9305 - loss: 0.1892 - val_accuracy: 0.9257 - val_loss: 0.1949\n",
            "Epoch 13/20\n",
            "\u001b[1m1109/1109\u001b[0m \u001b[32m━━━━━━━━━━━━━━━━━━━━\u001b[0m\u001b[37m\u001b[0m \u001b[1m2s\u001b[0m 2ms/step - accuracy: 0.9249 - loss: 0.1948 - val_accuracy: 0.9232 - val_loss: 0.1943\n",
            "Epoch 14/20\n",
            "\u001b[1m1109/1109\u001b[0m \u001b[32m━━━━━━━━━━━━━━━━━━━━\u001b[0m\u001b[37m\u001b[0m \u001b[1m3s\u001b[0m 2ms/step - accuracy: 0.9248 - loss: 0.1936 - val_accuracy: 0.9249 - val_loss: 0.1964\n",
            "Epoch 15/20\n",
            "\u001b[1m1109/1109\u001b[0m \u001b[32m━━━━━━━━━━━━━━━━━━━━\u001b[0m\u001b[37m\u001b[0m \u001b[1m2s\u001b[0m 2ms/step - accuracy: 0.9291 - loss: 0.1870 - val_accuracy: 0.9276 - val_loss: 0.1911\n",
            "Epoch 16/20\n",
            "\u001b[1m1109/1109\u001b[0m \u001b[32m━━━━━━━━━━━━━━━━━━━━\u001b[0m\u001b[37m\u001b[0m \u001b[1m3s\u001b[0m 2ms/step - accuracy: 0.9312 - loss: 0.1838 - val_accuracy: 0.9267 - val_loss: 0.1911\n",
            "Epoch 17/20\n",
            "\u001b[1m1109/1109\u001b[0m \u001b[32m━━━━━━━━━━━━━━━━━━━━\u001b[0m\u001b[37m\u001b[0m \u001b[1m2s\u001b[0m 2ms/step - accuracy: 0.9272 - loss: 0.1916 - val_accuracy: 0.9272 - val_loss: 0.1912\n",
            "Epoch 18/20\n",
            "\u001b[1m1109/1109\u001b[0m \u001b[32m━━━━━━━━━━━━━━━━━━━━\u001b[0m\u001b[37m\u001b[0m \u001b[1m2s\u001b[0m 2ms/step - accuracy: 0.9285 - loss: 0.1892 - val_accuracy: 0.9247 - val_loss: 0.1909\n",
            "Epoch 19/20\n",
            "\u001b[1m1109/1109\u001b[0m \u001b[32m━━━━━━━━━━━━━━━━━━━━\u001b[0m\u001b[37m\u001b[0m \u001b[1m2s\u001b[0m 2ms/step - accuracy: 0.9300 - loss: 0.1838 - val_accuracy: 0.9272 - val_loss: 0.1926\n",
            "Epoch 20/20\n",
            "\u001b[1m1109/1109\u001b[0m \u001b[32m━━━━━━━━━━━━━━━━━━━━\u001b[0m\u001b[37m\u001b[0m \u001b[1m2s\u001b[0m 2ms/step - accuracy: 0.9301 - loss: 0.1805 - val_accuracy: 0.9266 - val_loss: 0.1896\n"
          ]
        }
      ]
    },
    {
      "cell_type": "markdown",
      "source": [
        "**EVALUATE THE MODEL**"
      ],
      "metadata": {
        "id": "QeDIla6KNO1q"
      }
    },
    {
      "cell_type": "code",
      "source": [
        "# Evaluate the model on the test set\n",
        "test_loss, test_acc = model.evaluate(X_test, y_test)\n",
        "print(f'Test accuracy: {test_acc:.4f}')\n"
      ],
      "metadata": {
        "colab": {
          "base_uri": "https://localhost:8080/"
        },
        "id": "tXcVCZLYNRtq",
        "outputId": "0a4a3e33-8f48-43f3-86e0-7d6931995857"
      },
      "execution_count": 16,
      "outputs": [
        {
          "output_type": "stream",
          "name": "stdout",
          "text": [
            "\u001b[1m347/347\u001b[0m \u001b[32m━━━━━━━━━━━━━━━━━━━━\u001b[0m\u001b[37m\u001b[0m \u001b[1m1s\u001b[0m 2ms/step - accuracy: 0.9289 - loss: 0.1838\n",
            "Test accuracy: 0.9288\n"
          ]
        }
      ]
    },
    {
      "cell_type": "markdown",
      "source": [
        "**PREDICTION AND METRICS**"
      ],
      "metadata": {
        "id": "HqoaYY1nNWK4"
      }
    },
    {
      "cell_type": "code",
      "source": [
        "# Make predictions\n",
        "y_pred = (model.predict(X_test) > 0.5).astype(\"int32\")\n",
        "\n",
        "# Print classification report\n",
        "print(classification_report(y_test, y_pred))\n",
        "\n",
        "# Accuracy score\n",
        "print(f'Accuracy: {accuracy_score(y_test, y_pred):.4f}')\n"
      ],
      "metadata": {
        "colab": {
          "base_uri": "https://localhost:8080/"
        },
        "id": "XxBAnaFVNU0E",
        "outputId": "e76da201-a5f9-43e1-94e8-224c2fd783aa"
      },
      "execution_count": 17,
      "outputs": [
        {
          "output_type": "stream",
          "name": "stdout",
          "text": [
            "\u001b[1m347/347\u001b[0m \u001b[32m━━━━━━━━━━━━━━━━━━━━\u001b[0m\u001b[37m\u001b[0m \u001b[1m1s\u001b[0m 3ms/step\n",
            "              precision    recall  f1-score   support\n",
            "\n",
            "           0       0.95      0.90      0.93      5497\n",
            "           1       0.91      0.96      0.93      5591\n",
            "\n",
            "    accuracy                           0.93     11088\n",
            "   macro avg       0.93      0.93      0.93     11088\n",
            "weighted avg       0.93      0.93      0.93     11088\n",
            "\n",
            "Accuracy: 0.9288\n"
          ]
        }
      ]
    },
    {
      "cell_type": "markdown",
      "source": [
        "**PLOT THE HISTORY**"
      ],
      "metadata": {
        "id": "PKlFWodCNe3U"
      }
    },
    {
      "cell_type": "code",
      "source": [
        "import matplotlib.pyplot as plt\n",
        "\n",
        "# Plot training & validation accuracy values\n",
        "plt.plot(history.history['accuracy'])\n",
        "plt.plot(history.history['val_accuracy'])\n",
        "plt.title('Model accuracy')\n",
        "plt.ylabel('Accuracy')\n",
        "plt.xlabel('Epoch')\n",
        "plt.legend(['Train', 'Validation'], loc='upper left')\n",
        "plt.show()\n",
        "\n",
        "# Plot training & validation loss values\n",
        "plt.plot(history.history['loss'])\n",
        "plt.plot(history.history['val_loss'])\n",
        "plt.title('Model loss')\n",
        "plt.ylabel('Loss')\n",
        "plt.xlabel('Epoch')\n",
        "plt.legend(['Train', 'Validation'], loc='upper left')\n",
        "plt.show()\n"
      ],
      "metadata": {
        "colab": {
          "base_uri": "https://localhost:8080/",
          "height": 927
        },
        "id": "DMdQBWoKNhgR",
        "outputId": "f7814dd8-64c6-4b0f-87cf-f1601d8e948f"
      },
      "execution_count": 18,
      "outputs": [
        {
          "output_type": "display_data",
          "data": {
            "text/plain": [
              "<Figure size 640x480 with 1 Axes>"
            ],
            "image/png": "[encoded data removed]"
          },
          "metadata": {}
        },
        {
          "output_type": "display_data",
          "data": {
            "text/plain": [
              "<Figure size 640x480 with 1 Axes>"
            ],
            "image/png": "[encoded data removed]"
          },
          "metadata": {}
        }
      ]
    }
  ]
}